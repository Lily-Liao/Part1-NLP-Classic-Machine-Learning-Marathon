{
 "cells": [
  {
   "cell_type": "markdown",
   "metadata": {
    "id": "YLdZ_qAjZUeD"
   },
   "source": [
    "## 作業目標: 了解斷詞演算法的背後計算"
   ]
  },
  {
   "cell_type": "markdown",
   "metadata": {
    "id": "KF2daP4LZUeE"
   },
   "source": [
    "### 根據課程講述的內容, 請計算出下列剩餘所有情況的\n",
    "若有一個人連續觀察到三天水草都是乾燥的(Dry), 則這三天的天氣機率為何？(可參考講義第13頁)\n",
    "(Hint: 共有8種可能機率)\n",
    "\n",
    "```python\n",
    "states = ('sunny', 'rainy')\n",
    "observations = ('dry', 'damp', 'soggy')\n",
    "start_probability = {'sunny': 0.4, 'rainy': 0.6}\n",
    "transition_probability = {'sunny':{'sunny':0.6, 'rainy':0.4},\n",
    "                          'rainy': {'sunny':0.3, 'rainy':0.7}}\n",
    "emission_probatility = {'sunny': {'dry':0.6, 'damp':0.3, 'soggy':0.1},\n",
    "                        'rainy': {'dry':0.1, 'damp':0.4, 'soggy':0.5}}\n",
    "```"
   ]
  },
  {
   "cell_type": "markdown",
   "metadata": {
    "id": "wRq3gvlWZUeE"
   },
   "source": [
    "```\n",
    "觀察狀態 = 'dry', 'dry', 'dry'\n",
    "Sunny, Sunny, Sunny: 0.4*(0.6)*0.6*(0.6)*0.6*(0.6) = 0.031104\n",
    "Rainy, Sunny, Sunny: 0.6*(0.1)*0.3*(0.6)*0.6*(0.6) = 0.003888\n",
    "\n",
    "*** my answer： ***\n",
    "Sunny, Rainy, Sunny: 0.4*(0.6)*0.4*(0.1)*0.3*(0.6) = 0.001728\n",
    "Rainy, Rainy, Sunny: 0.6*(0.1)*0.7*(0.1)*0.3*(0.6) = 0.000756\n",
    "Sunny, Sunny, Rainy: 0.4*(0.6)*0.6*(0.6)*0.4*(0.1) = 0.003456\n",
    "Rainy, Sunny, Rainy: 0.6*(0.1)*0.3*(0.6)*0.4*(0.1) = 0.000432\n",
    "Sunny, Rainy, Rainy: 0.4*(0.6)*0.4*(0.1)*0.7*(0.1) = 0.000672\n",
    "Rainy, Rainy, Rainy: 0.6*(0.1)*0.7*(0.1)*0.7*(0.1) = 0.000294\n",
    "\n",
    "最大機率為: Sunny, Sunny, Sunny\n",
    "```"
   ]
  },
  {
   "cell_type": "markdown",
   "metadata": {
    "id": "EuEF8W2pZUeE"
   },
   "source": [
    "### 根據上述條件, 寫出Viterbi應用程式"
   ]
  },
  {
   "cell_type": "code",
   "execution_count": 1,
   "metadata": {
    "executionInfo": {
     "elapsed": 1007,
     "status": "ok",
     "timestamp": 1605923365558,
     "user": {
      "displayName": "玉米雞",
      "photoUrl": "https://lh3.googleusercontent.com/a-/AOh14GgSilnJdiOFQGwKcA3VuDeWOelLUdB36rJeQZOSBA=s64",
      "userId": "06695154469467593900"
     },
     "user_tz": -480
    },
    "id": "HFJKOyMzZUeE"
   },
   "outputs": [],
   "source": [
    "observations = ('dry', 'dry', 'dry','damp') #實際上觀察到的狀態為dry, dry, dry\n",
    "states = ('sunny', 'rainy')\n",
    "start_probability = {'sunny': 0.4, 'rainy': 0.6}\n",
    "transition_probability = {'sunny':{'sunny':0.6, 'rainy':0.4},\n",
    "                          'rainy': {'sunny':0.3, 'rainy':0.7}}\n",
    "emission_probatility = {'sunny': {'dry':0.6, 'damp':0.3, 'soggy':0.1},\n",
    "                        'rainy': {'dry':0.1, 'damp':0.4, 'soggy':0.5}} \n"
   ]
  },
  {
   "cell_type": "code",
   "execution_count": 2,
   "metadata": {
    "executionInfo": {
     "elapsed": 1003,
     "status": "ok",
     "timestamp": 1605923365558,
     "user": {
      "displayName": "玉米雞",
      "photoUrl": "https://lh3.googleusercontent.com/a-/AOh14GgSilnJdiOFQGwKcA3VuDeWOelLUdB36rJeQZOSBA=s64",
      "userId": "06695154469467593900"
     },
     "user_tz": -480
    },
    "id": "cEta7levzNCf"
   },
   "outputs": [],
   "source": [
    "def viterbi(obs,states,start_p,trans_p,emit_p):\n",
    "  path=[]\n",
    "  v=[]\n",
    "\n",
    "  first_pro,first_path = max([(start_p[first_state]*emit_p[first_state][obs[0]],first_state) for first_state in states])\n",
    "  path.append(first_path)\n",
    "  v.append(first_pro)\n",
    "\n",
    "  for i in range(1,len(obs)):\n",
    "    pro,state_path=max([(v[i-1]*trans_p[path[i-1]][state]*emit_p[state][obs[i]],state) for state in states])\n",
    "    path.append(state_path)\n",
    "    v.append(pro)\n",
    "    \n",
    "  return (v[-1],path)\n",
    "\n",
    "#步步計算過程\n",
    "# def viterbi(obs,states,start_p,trans_p,emit_p):\n",
    "#   path=[]\n",
    "\n",
    "#   first_path_pro,first_state_path = max([(start_p[state]*emit_p[state][obs[0]],state) for state in states])\n",
    "#   path.append(first_state_path)\n",
    "\n",
    "#   second_path_pro,second_state_path = max([(first_path_pro*trans_p[first_state_path][y]*emit_p[y][obs[1]],y) for y in states])\n",
    "#   path.append(second_state_path)\n",
    "\n",
    "#   third_path_pro,third_state_path = max([(second_path_pro*trans_p[second_state_path][z]*emit_p[z][obs[2]],z) for z in states])\n",
    "#   path.append(third_state_path)\n",
    "#   return (third_path_pro,path)"
   ]
  },
  {
   "cell_type": "code",
   "execution_count": 3,
   "metadata": {
    "executionInfo": {
     "elapsed": 1002,
     "status": "ok",
     "timestamp": 1605923365559,
     "user": {
      "displayName": "玉米雞",
      "photoUrl": "https://lh3.googleusercontent.com/a-/AOh14GgSilnJdiOFQGwKcA3VuDeWOelLUdB36rJeQZOSBA=s64",
      "userId": "06695154469467593900"
     },
     "user_tz": -480
    },
    "id": "EVh3-ecDZUeF"
   },
   "outputs": [],
   "source": [
    "result = viterbi(observations,\n",
    "                 states,\n",
    "                 start_probability,\n",
    "                 transition_probability,\n",
    "                 emission_probatility)"
   ]
  },
  {
   "cell_type": "code",
   "execution_count": 4,
   "metadata": {
    "colab": {
     "base_uri": "https://localhost:8080/"
    },
    "executionInfo": {
     "elapsed": 997,
     "status": "ok",
     "timestamp": 1605923365559,
     "user": {
      "displayName": "玉米雞",
      "photoUrl": "https://lh3.googleusercontent.com/a-/AOh14GgSilnJdiOFQGwKcA3VuDeWOelLUdB36rJeQZOSBA=s64",
      "userId": "06695154469467593900"
     },
     "user_tz": -480
    },
    "id": "-YbiswTsZUeF",
    "outputId": "3d1c415a-f59e-4a14-ddf5-d8e2b1ea9529"
   },
   "outputs": [
    {
     "data": {
      "text/plain": [
       "(0.005598719999999999, ['sunny', 'sunny', 'sunny', 'sunny'])"
      ]
     },
     "execution_count": 4,
     "metadata": {},
     "output_type": "execute_result"
    }
   ],
   "source": [
    "result"
   ]
  }
 ],
 "metadata": {
  "colab": {
   "name": "斷詞作業.ipynb",
   "provenance": []
  },
  "kernelspec": {
   "display_name": "Python 3",
   "language": "python",
   "name": "python3"
  },
  "language_info": {
   "codemirror_mode": {
    "name": "ipython",
    "version": 3
   },
   "file_extension": ".py",
   "mimetype": "text/x-python",
   "name": "python",
   "nbconvert_exporter": "python",
   "pygments_lexer": "ipython3",
   "version": "3.7.6"
  }
 },
 "nbformat": 4,
 "nbformat_minor": 1
}
